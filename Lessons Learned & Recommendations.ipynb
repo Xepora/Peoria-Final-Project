{
 "cells": [
  {
   "cell_type": "code",
   "execution_count": null,
   "metadata": {
    "collapsed": true
   },
   "outputs": [],
   "source": [
    "Lessons Learned\n",
    "\n",
    "Data science = hard. Machine learning = hard. Data cleaning is >= hard. \n",
    "    Reviewing (and cleaning) data takes a lot of time and consumed much of our initial efforts\n",
    "    No single dataset contained all the variables needed to run our analyses, so we merged datasets\n",
    "    No unique identifier existed to link records across datasets.\n",
    "    Fields were often missing information. \n",
    "\n",
    "We had to sacrifice quantity of data in favor of fewer, more complete records\n",
    "\n",
    "Making meaningful predictions is dependent on having the right data, and on understanding if the data you have works with your model \n",
    "    Working through the model was more important than getting to a perfect fit\n",
    "\n",
    "Do it. Do it again. Keep doing it (a.k.a., practice, practice, practice) \n",
    "    Iterating over the model is necessary to work through the question you’re trying to answer\n",
    "\n",
    "Many heads is better than one. Working together helps work through problems. \n",
    "\n",
    "Recommendations/Future Directions\n",
    "\n",
    "Advocate for standardizing data collection and practices (ideally across departments and agencies)\n",
    "\n",
    "Share data across government departments and/or between agencies to improve decision-making (e.g., code enforcement and fire department) \n",
    "    Integrate data into a centralized hub \n",
    "\n",
    "Continue collaborating as a data science team to build capacity for data science and machine learning"
   ]
  }
 ],
 "metadata": {
  "kernelspec": {
   "display_name": "Python 3",
   "language": "python",
   "name": "python3"
  },
  "language_info": {
   "codemirror_mode": {
    "name": "ipython",
    "version": 3
   },
   "file_extension": ".py",
   "mimetype": "text/x-python",
   "name": "python",
   "nbconvert_exporter": "python",
   "pygments_lexer": "ipython3",
   "version": "3.6.3"
  }
 },
 "nbformat": 4,
 "nbformat_minor": 2
}
